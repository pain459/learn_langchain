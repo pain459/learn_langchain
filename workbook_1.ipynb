{
 "cells": [
  {
   "cell_type": "code",
   "execution_count": 1,
   "id": "4ca6a773",
   "metadata": {},
   "outputs": [],
   "source": [
    "# Lib import\n",
    "import os\n",
    "from dotenv import load_dotenv"
   ]
  },
  {
   "cell_type": "code",
   "execution_count": 2,
   "id": "e27b1245",
   "metadata": {},
   "outputs": [
    {
     "data": {
      "text/plain": [
       "True"
      ]
     },
     "execution_count": 2,
     "metadata": {},
     "output_type": "execute_result"
    }
   ],
   "source": [
    "# Load variables into memory\n",
    "load_dotenv()  # Loading from default path"
   ]
  },
  {
   "cell_type": "code",
   "execution_count": 4,
   "id": "d222dd61",
   "metadata": {},
   "outputs": [
    {
     "data": {
      "text/plain": [
       "\" so blue, it looks like a postcard. The clouds are fluffy and white, and the sun shines brightly, casting a warm glow on everything around. A gentle breeze rustles the leaves, and the scent of blooming flowers fills the air.\\n\\nIn the distance, you can see a field of wildflowers swaying in the wind, a patchwork of colors that dances in the sunlight. Birds chirp happily, flitting from tree to tree, their songs creating a joyful symphony that complements the beauty of the day.\\n\\nThe park is alive with laughter and chatter as families enjoy picnics on the grass, children run and play, and dogs frolic happily. People relax on benches, soaking in the beauty of the day, some reading books, others chatting with friends.\\n\\nAs the day unfolds, the beauty of the world seems to shine even brighter, reminding everyone to pause and appreciate the simple joys of life. It's a perfect day to be outside, to breathe in the fresh air, and to embrace the wonders of nature.\\n\\nToday is a perfect day outside. The sky is a brilliant blue, resembling a postcard. Fluffy white clouds drift lazily by, and the sun beams down, casting a warm glow over everything. A gentle breeze stirs the leaves, carrying\""
      ]
     },
     "execution_count": 4,
     "metadata": {},
     "output_type": "execute_result"
    }
   ],
   "source": [
    "# langchain openaillm wrapper\n",
    "from langchain_openai import OpenAI\n",
    "model = OpenAI(model=\"gpt-4o-mini\")\n",
    "model.invoke(\"The sky is\")"
   ]
  },
  {
   "cell_type": "markdown",
   "id": "ac4a9323",
   "metadata": {},
   "source": [
    "### Using langchain openai model"
   ]
  },
  {
   "cell_type": "code",
   "execution_count": 5,
   "id": "5d979615",
   "metadata": {},
   "outputs": [],
   "source": [
    "# Langchain openai model\n",
    "from langchain_openai import ChatOpenAI\n",
    "from langchain_core.messages import HumanMessage"
   ]
  },
  {
   "cell_type": "code",
   "execution_count": 6,
   "id": "40ce8479",
   "metadata": {},
   "outputs": [],
   "source": [
    "model = ChatOpenAI(model=\"gpt-4o-mini\")\n",
    "prompt = [HumanMessage(\"What is the capital of India?\")]"
   ]
  },
  {
   "cell_type": "code",
   "execution_count": 8,
   "id": "e513a132",
   "metadata": {},
   "outputs": [
    {
     "data": {
      "text/plain": [
       "'The capital of India is New Delhi.'"
      ]
     },
     "execution_count": 8,
     "metadata": {},
     "output_type": "execute_result"
    }
   ],
   "source": [
    "model.invoke(prompt).content"
   ]
  },
  {
   "cell_type": "markdown",
   "id": "4afaecb2",
   "metadata": {},
   "source": [
    "## Incorporating SystemMessage instruction in our example"
   ]
  },
  {
   "cell_type": "code",
   "execution_count": 9,
   "id": "3563a961",
   "metadata": {},
   "outputs": [],
   "source": [
    "from langchain_core.messages import HumanMessage, SystemMessage\n",
    "from langchain_openai.chat_models import ChatOpenAI"
   ]
  },
  {
   "cell_type": "code",
   "execution_count": 10,
   "id": "073e53a0",
   "metadata": {},
   "outputs": [],
   "source": [
    "model = ChatOpenAI(model=\"gpt-4o-mini\")\n",
    "system_msg = SystemMessage(\n",
    "    '''You are a helpful assistant that responds to questions with 3 exclamation marks.\n",
    "''')\n",
    "human_msg = HumanMessage(\"What is the capital of France?\")"
   ]
  },
  {
   "cell_type": "code",
   "execution_count": 12,
   "id": "9a537aa1",
   "metadata": {},
   "outputs": [
    {
     "data": {
      "text/plain": [
       "'The capital of France is Paris!!!'"
      ]
     },
     "execution_count": 12,
     "metadata": {},
     "output_type": "execute_result"
    }
   ],
   "source": [
    "model.invoke([system_msg, human_msg]).content"
   ]
  },
  {
   "cell_type": "code",
   "execution_count": null,
   "id": "89c5f558",
   "metadata": {},
   "outputs": [],
   "source": []
  }
 ],
 "metadata": {
  "kernelspec": {
   "display_name": ".venv",
   "language": "python",
   "name": "python3"
  },
  "language_info": {
   "codemirror_mode": {
    "name": "ipython",
    "version": 3
   },
   "file_extension": ".py",
   "mimetype": "text/x-python",
   "name": "python",
   "nbconvert_exporter": "python",
   "pygments_lexer": "ipython3",
   "version": "3.10.12"
  }
 },
 "nbformat": 4,
 "nbformat_minor": 5
}
